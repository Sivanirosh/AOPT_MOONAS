{
 "cells": [
  {
   "cell_type": "code",
   "execution_count": null,
   "id": "09c668d4",
   "metadata": {},
   "outputs": [
    {
     "name": "stdout",
     "output_type": "stream",
     "text": [
      "Loaded 8680 architectures from cache.\n"
     ]
    },
    {
     "name": "stderr",
     "output_type": "stream",
     "text": [
      "Epochs:   4%|▍         | 2/50 [00:03<01:11,  1.49s/it]"
     ]
    }
   ],
   "source": [
    "import os\n",
    "import pickle\n",
    "import random\n",
    "import itertools\n",
    "from copy import deepcopy\n",
    "\n",
    "import torch\n",
    "import torch.nn as nn\n",
    "import torch.nn.functional as F\n",
    "from torch.utils.data import DataLoader\n",
    "from tqdm import tqdm\n",
    "import torchvision\n",
    "import torchvision.transforms as transforms\n",
    "import networkx as nx\n",
    "from networkx.algorithms import isomorphism\n",
    "import matplotlib.pyplot as plt\n",
    "import math\n",
    "import numpy as np\n",
    "\n",
    "# ----------------------------------------\n",
    "# 0) Hyper-parameters & Globals\n",
    "# ----------------------------------------\n",
    "device = torch.device('cuda' if torch.cuda.is_available() else 'cpu')\n",
    "NUM_NODES           = 4\n",
    "EDGES               = [(i, j) for i in range(NUM_NODES) for j in range(i+1, NUM_NODES)]\n",
    "NUM_EDGES           = len(EDGES)\n",
    "NUM_PARETO_SAMPLES  = 20\n",
    "\n",
    "FINAL_TRAIN_EPOCHS  = 10\n",
    "\n",
    "# MODNAS/Hypernet/Supernet/Architect parameters\n",
    "NUM_EPOCHS          = 50\n",
    "INITIAL_TAU         = 5.0\n",
    "FINAL_TAU           = 0.5\n",
    "NUM_RAYS            = 60\n",
    "SAMPLES_PER_R       = 100\n",
    "\n",
    "# EA parameters\n",
    "pop_size            = 20      \n",
    "num_gens            = 50      \n",
    "\n",
    "CACHE_PATH          = f'canonical_nodes{NUM_NODES}_edges{NUM_EDGES}.pkl'\n",
    "\n",
    "# ----------------------------------------\n",
    "# 1) Define NB201-style OPS (no inplace ReLU!)\n",
    "# ----------------------------------------\n",
    "def op_zeroize():     return None\n",
    "def op_skip():        return nn.Identity()\n",
    "def op_conv1x1():     return nn.Sequential(\n",
    "                            nn.ReLU(),\n",
    "                            nn.Conv2d(16,16,1,padding=0, bias=False),\n",
    "                            nn.BatchNorm2d(16))\n",
    "def op_conv3x3():     return nn.Sequential(\n",
    "                            nn.ReLU(),\n",
    "                            nn.Conv2d(16,16,3,padding=1, bias=False),\n",
    "                            nn.BatchNorm2d(16))\n",
    "def op_avgpool3x3():  return nn.AvgPool2d(3, stride=1, padding=1)\n",
    "\n",
    "OPS    = [op_zeroize, op_skip, op_conv1x1, op_conv3x3, op_avgpool3x3]\n",
    "NUM_OPS = len(OPS)\n",
    "\n",
    "# ----------------------------------------\n",
    "# 2) Enumerate & prune DAGs w/ isomorphism\n",
    "# ----------------------------------------\n",
    "if os.path.exists(CACHE_PATH):\n",
    "    with open(CACHE_PATH, 'rb') as f:\n",
    "        CANONICAL_ARCHS = pickle.load(f)\n",
    "    print(f\"Loaded {len(CANONICAL_ARCHS)} architectures from cache.\")\n",
    "else:\n",
    "    CANONICAL_ARCHS, REPS = [], []\n",
    "    for sel in itertools.product(range(NUM_OPS), repeat=NUM_EDGES):\n",
    "        G = nx.DiGraph()\n",
    "        G.add_nodes_from(range(NUM_NODES))\n",
    "        for (i,j),op_idx in zip(EDGES, sel):\n",
    "            if op_idx != 0:\n",
    "                G.add_edge(i, j, op=op_idx)\n",
    "        # connectivity check\n",
    "        if any(not (nx.has_path(G,0,n) and nx.has_path(G,n,NUM_NODES-1))\n",
    "               for n in range(1,NUM_NODES-1)):\n",
    "            continue\n",
    "        # isomorphism check\n",
    "        if any(\n",
    "            isomorphism.DiGraphMatcher(G,H,\n",
    "              edge_match=lambda e1,e2: e1['op']==e2['op']\n",
    "            ).is_isomorphic()\n",
    "            for H,_ in REPS\n",
    "        ):\n",
    "            continue\n",
    "        REPS.append((G,sel))\n",
    "        CANONICAL_ARCHS.append(sel)\n",
    "    with open(CACHE_PATH,'wb') as f:\n",
    "        pickle.dump(CANONICAL_ARCHS,f)\n",
    "    print(f\"Pruned to {len(CANONICAL_ARCHS)} architectures and cached.\")\n",
    "\n",
    "N_ARCHS = len(CANONICAL_ARCHS)\n",
    "\n",
    "# ----------------------------------------\n",
    "# 3) Size metric\n",
    "# ----------------------------------------\n",
    "SIZE_LIST = []\n",
    "for op_fn in OPS:\n",
    "    m = op_fn()\n",
    "    SIZE_LIST.append(0 if m is None else sum(p.numel() for p in m.parameters()))\n",
    "ARCH_SIZES    = torch.tensor([sum(SIZE_LIST[o] for o in sel)\n",
    "                              for sel in CANONICAL_ARCHS],\n",
    "                              dtype=torch.float, device=device)\n",
    "MAX_ARCH_SIZE = ARCH_SIZES.max()\n",
    "\n",
    "# ----------------------------------------\n",
    "# 4) Hypernetwork & Gumbel-ST (with annealing)\n",
    "# ----------------------------------------\n",
    "class HyperNet(nn.Module):\n",
    "    def __init__(self, hidden=512):\n",
    "        super().__init__()\n",
    "        self.fc1 = nn.Linear(2, hidden)\n",
    "        self.fc2 = nn.Linear(hidden, N_ARCHS)\n",
    "    def forward(self, r):\n",
    "        return self.fc2(F.relu(self.fc1(r)))\n",
    "\n",
    "class Architect:\n",
    "    def __init__(self, tau, eps=1e-8):\n",
    "        self.tau, self.eps = tau, eps\n",
    "    def sample(self, logits):\n",
    "        g     = -torch.log(-torch.log(torch.rand_like(logits)+self.eps)+self.eps)\n",
    "        z     = (logits + g) / self.tau\n",
    "        y_soft= F.softmax(z, dim=-1)\n",
    "        idx   = y_soft.argmax().item()\n",
    "        y_hard= torch.zeros_like(y_soft); y_hard[idx]=1\n",
    "        return (y_hard - y_soft).detach() + y_soft, idx\n",
    "\n",
    "# ----------------------------------------\n",
    "# 5) One-shot SuperNet with GlobalAvgPool\n",
    "# ----------------------------------------\n",
    "class SuperNet(nn.Module):\n",
    "    def __init__(self):\n",
    "        super().__init__()\n",
    "        self.input_proj = nn.Conv2d(3,16,1,bias=False)\n",
    "        self.edge_ops   = nn.ModuleList([\n",
    "            nn.ModuleList([op_fn() for op_fn in OPS])\n",
    "            for _ in range(NUM_EDGES)\n",
    "        ])\n",
    "        self.classifier = nn.Linear(16*NUM_NODES,10)\n",
    "\n",
    "    def forward(self, arch_idx, x):\n",
    "        feat = {0: self.input_proj(x)}\n",
    "        for n in range(1, NUM_NODES):\n",
    "            feat[n] = torch.zeros_like(feat[0])\n",
    "        sel = CANONICAL_ARCHS[arch_idx]\n",
    "        for e,(i,j) in enumerate(EDGES):\n",
    "            op_idx = sel[e]\n",
    "            m      = self.edge_ops[e][op_idx]\n",
    "            if m is None: continue\n",
    "            out = m(feat[i])\n",
    "            c   = out.shape[1]\n",
    "            if c < 16:\n",
    "                pad = torch.zeros_like(out[:,:16-c])\n",
    "                pad = pad.view(out.size(0),16-c,out.size(2),out.size(3))\n",
    "                out = torch.cat([out,pad],dim=1)\n",
    "            feat[j] = feat[j] + out\n",
    "        allf = torch.cat([feat[n] for n in range(NUM_NODES)],dim=1)\n",
    "        gap  = allf.mean(dim=[2,3])\n",
    "        return self.classifier(gap)\n",
    "\n",
    "# ----------------------------------------\n",
    "# 6) Data Loaders\n",
    "# ----------------------------------------\n",
    "transform     = transforms.Compose([\n",
    "                    transforms.ToTensor(),\n",
    "                    transforms.Normalize((0.5,)*3,(0.5,)*3)\n",
    "                ])\n",
    "train_ds      = torchvision.datasets.CIFAR10('./data',True,transform,download=True)\n",
    "val_ds        = torchvision.datasets.CIFAR10('./data',False,transform,download=True)\n",
    "train_loader  = DataLoader(train_ds, batch_size=128, shuffle=True,  num_workers=4)\n",
    "val_loader    = DataLoader(val_ds,   batch_size=256, shuffle=False, num_workers=4)\n",
    "\n",
    "# ----------------------------------------\n",
    "# 7) Instantiate & Optimizers\n",
    "# ----------------------------------------\n",
    "hypernet  = HyperNet().to(device)\n",
    "supernet  = SuperNet().to(device)\n",
    "architect = Architect(tau=INITIAL_TAU)\n",
    "opt_w     = torch.optim.SGD(supernet.parameters(), lr=0.01, momentum=0.9)\n",
    "opt_phi   = torch.optim.Adam(hypernet.parameters(),    lr=1e-3)\n",
    "\n",
    "# ----------------------------------------\n",
    "# 8) Bi-level Training w/ MGDA‐style aggregation\n",
    "# ----------------------------------------\n",
    "thetas   = np.linspace(1e-3, math.pi/2-1e-3, NUM_RAYS)\n",
    "rays     = [torch.tensor([math.cos(t), math.sin(t)],device=device)\n",
    "            for t in thetas]\n",
    "\n",
    "for ep in tqdm(range(NUM_EPOCHS), desc=\"Epochs\"):\n",
    "    # 1) Anneal τ\n",
    "    architect.tau = INITIAL_TAU + (FINAL_TAU-INITIAL_TAU)*(ep/(NUM_EPOCHS-1))\n",
    "\n",
    "    # 8.a) SuperNet update\n",
    "    supernet.train()\n",
    "    for x, y in tqdm(train_loader, desc=\"  SuperNet batches\", leave=False):\n",
    "        x, y = x.to(device), y.to(device)\n",
    "        idx  = random.randrange(N_ARCHS)\n",
    "        loss = F.cross_entropy(supernet(idx, x), y)\n",
    "        opt_w.zero_grad(); loss.backward(); opt_w.step()\n",
    "\n",
    "    # 8.b) HyperNet MGDA‐style update\n",
    "    hypernet.train()\n",
    "    # collect and sum per-ray grads\n",
    "    sum_grads = [torch.zeros_like(p) for p in hypernet.parameters()]\n",
    "    val_iter  = iter(val_loader)\n",
    "    for r in tqdm(rays, desc=\"  HyperNet rays\", leave=False):\n",
    "        try:\n",
    "            xv, yv = next(val_iter)\n",
    "        except StopIteration:\n",
    "            val_iter = iter(val_loader)\n",
    "            xv, yv   = next(val_iter)\n",
    "        xv, yv = xv.to(device), yv.to(device)\n",
    "\n",
    "        opt_phi.zero_grad()\n",
    "        logits      = hypernet(r)\n",
    "        y_soft, idx = architect.sample(logits)\n",
    "        loss_v      = F.cross_entropy(supernet(idx, xv), yv).detach()\n",
    "        size_norm   = (y_soft @ ARCH_SIZES) / MAX_ARCH_SIZE\n",
    "        obj         = r[0]*loss_v + r[1]*size_norm\n",
    "        obj.backward()\n",
    "        # accumulate\n",
    "        for g_idx, p in enumerate(hypernet.parameters()):\n",
    "            sum_grads[g_idx] += p.grad.detach()\n",
    "\n",
    "    # now average & step\n",
    "    for p, g in zip(hypernet.parameters(), sum_grads):\n",
    "        p.grad = g / len(rays)\n",
    "    opt_phi.step()\n",
    "\n",
    "# ----------------------------------------\n",
    "# 8.5) One‐shot evaluator (unchanged)\n",
    "# ----------------------------------------\n",
    "def evaluate_proxy(idxs):\n",
    "    Rs      = [(ARCH_SIZES[i]/MAX_ARCH_SIZE).item() for i in idxs]\n",
    "    correct = {i:0 for i in idxs}\n",
    "    total   = len(val_ds)\n",
    "    supernet.eval()\n",
    "    with torch.no_grad():\n",
    "        for x,y in val_loader:\n",
    "            x, y = x.to(device), y.to(device)\n",
    "            for idx in idxs:\n",
    "                correct[idx] += (supernet(idx,x).argmax(1)==y).sum().item()\n",
    "    Accs = [correct[i]/total for i in idxs]\n",
    "    return list(zip(idxs, Rs, Accs))\n",
    "\n",
    "def dominates(a,b):\n",
    "    return (a[0]<=b[0] and a[1]>=b[1]) and (a[0]<b[0] or a[1]>b[1])\n",
    "\n",
    "def nondom_front(points):\n",
    "    return [p for p in points if not any(dominates(q,p) for q in points if q!=p)]\n",
    "\n",
    "# ----------------------------------------\n",
    "# 9.a) Random Search\n",
    "# ----------------------------------------\n",
    "rand_inds = random.sample(range(N_ARCHS), NUM_PARETO_SAMPLES)\n",
    "\n",
    "# ----------------------------------------\n",
    "# 9.b) ModNAS sweep w/ local search\n",
    "# ----------------------------------------\n",
    "mod_cands     = []\n",
    "val_iter      = iter(val_loader)\n",
    "for r in tqdm(rays, desc=\"ModNAS rays\"):\n",
    "    # fetch one small val batch for cheap proxy in local search\n",
    "    try:\n",
    "        xv, yv = next(val_iter)\n",
    "    except StopIteration:\n",
    "        val_iter = iter(val_loader)\n",
    "        xv, yv   = next(val_iter)\n",
    "    xv, yv = xv.to(device), yv.to(device)\n",
    "\n",
    "    logits = hypernet(r)\n",
    "    local  = []\n",
    "    for _ in range(SAMPLES_PER_R):\n",
    "        _, idx    = architect.sample(logits)\n",
    "        best_idx  = idx\n",
    "        # 2.i) one-step random neighborhood search\n",
    "        for _ in range(5):\n",
    "            sel = list(CANONICAL_ARCHS[best_idx])\n",
    "            e   = random.randrange(NUM_EDGES)\n",
    "            choices = [o for o in range(NUM_OPS) if o!=sel[e]]\n",
    "            sel[e]   = random.choice(choices)\n",
    "            tpl      = tuple(sel)\n",
    "            if tpl in CANONICAL_ARCHS:\n",
    "                new_idx = CANONICAL_ARCHS.index(tpl)\n",
    "                # cheap proxy objective\n",
    "                lv0 = F.cross_entropy(supernet(best_idx,xv), yv).item()\n",
    "                lv1 = F.cross_entropy(supernet(new_idx, xv), yv).item()\n",
    "                s0  = (ARCH_SIZES[best_idx]/MAX_ARCH_SIZE).item()\n",
    "                s1  = (ARCH_SIZES[new_idx]/MAX_ARCH_SIZE).item()\n",
    "                if r[0]*lv1 + r[1]*s1 < r[0]*lv0 + r[1]*s0:\n",
    "                    best_idx = new_idx\n",
    "        local.append(best_idx)\n",
    "    mod_cands.extend(local)\n",
    "\n",
    "# dedupe & Pareto‐filter\n",
    "mod_cands    = list(dict.fromkeys(mod_cands))\n",
    "cand_metrics = evaluate_proxy(mod_cands)\n",
    "\n",
    "# corrected nondominated filtering\n",
    "mod_inds = []\n",
    "for idx_i, size_i, acc_i in cand_metrics:\n",
    "    dominated = False\n",
    "    for idx_j, size_j, acc_j in cand_metrics:\n",
    "        if idx_j == idx_i:\n",
    "            continue\n",
    "        # does j dominate i?\n",
    "        if (size_j <= size_i and acc_j >= acc_i) and (size_j < size_i or acc_j > acc_i):\n",
    "            dominated = True\n",
    "            break\n",
    "    if not dominated:\n",
    "        mod_inds.append(idx_i)\n",
    "\n",
    "# then pick the smallest-size ones\n",
    "mod_inds = sorted(mod_inds, key=lambda i: ARCH_SIZES[i].item())[:NUM_PARETO_SAMPLES]\n",
    "\n",
    "\n",
    "# ----------------------------------------\n",
    "# 9.c) NSGA-II w/ archive & normalized crowding-distance\n",
    "# ----------------------------------------\n",
    "def crowding_distance(front):\n",
    "    idxs, sizes, accs = zip(*front)\n",
    "    # normalize each objective\n",
    "    s_min, s_max = min(sizes), max(sizes)\n",
    "    a_min, a_max = min(accs),  max(accs)\n",
    "    norm = lambda v, lo, hi: (v-lo)/(hi-lo+1e-12)\n",
    "    sn = [norm(s,s_min,s_max) for s in sizes]\n",
    "    an = [norm(a,a_min,a_max) for a in accs]\n",
    "\n",
    "    dist = {idx:0.0 for idx in idxs}\n",
    "    # infinite at ends\n",
    "    os = sorted(zip(idxs, sn), key=lambda x:x[1])\n",
    "    oa = sorted(zip(idxs, an), key=lambda x:x[1])\n",
    "    dist[os[0][0]] = dist[os[-1][0]] = float('inf')\n",
    "    dist[oa[0][0]] = dist[oa[-1][0]] = float('inf')\n",
    "    # accumulate\n",
    "    for i in range(1,len(idxs)-1):\n",
    "        dist[os[i][0]] += os[i+1][1] - os[i-1][1]\n",
    "        dist[oa[i][0]] += oa[i+1][1] - oa[i-1][1]\n",
    "    return dist\n",
    "\n",
    "archive = []\n",
    "pop     = random.sample(range(N_ARCHS), pop_size)\n",
    "for gen in tqdm(range(num_gens), desc=\"NSGA-II gens\"):\n",
    "    # mutation-only offspring\n",
    "    offspring = []\n",
    "    for pid in pop:\n",
    "        sel = list(CANONICAL_ARCHS[pid])\n",
    "        e   = random.randrange(NUM_EDGES)\n",
    "        choices = [o for o in range(NUM_OPS) if o!=sel[e]]\n",
    "        sel[e] = random.choice(choices)\n",
    "        tpl    = tuple(sel)\n",
    "        if tpl in CANONICAL_ARCHS:\n",
    "            offspring.append(CANONICAL_ARCHS.index(tpl))\n",
    "    combined = pop + offspring\n",
    "\n",
    "    ev    = evaluate_proxy(combined)\n",
    "    front = [(i,s,a) for i,(s,a) in zip(combined, [(s,a) for _,s,a in ev])\n",
    "             if not any((s2<=s and a2>=a and (s2<s or a2>a))\n",
    "                        for _,s2,a2 in ev if _!=i)]\n",
    "\n",
    "    # update archive (elitism)\n",
    "    archive += [i for i,_,_ in front]\n",
    "    archive  = list({*archive})\n",
    "    arch_ev  = evaluate_proxy(archive)\n",
    "    archive  = [i for i,_,_ in nondom_front(arch_ev)]\n",
    "\n",
    "    # refill population: half from archive, half by crowding\n",
    "    half = pop_size//2\n",
    "    pop  = random.sample(archive, min(len(archive), half)) + \\\n",
    "           [i for i,_ in sorted(\n",
    "                crowding_distance(front).items(),\n",
    "                key=lambda x:x[1], reverse=True\n",
    "            )[:pop_size-half]]\n",
    "nsga_inds = pop[:NUM_PARETO_SAMPLES]\n"
   ]
  },
  {
   "cell_type": "code",
   "execution_count": null,
   "id": "97c42537",
   "metadata": {},
   "outputs": [
    {
     "data": {
      "image/png": "[encoded data removed]",
      "text/plain": [
       "<Figure size 600x400 with 1 Axes>"
      ]
     },
     "metadata": {},
     "output_type": "display_data"
    }
   ],
   "source": [
    "# 10) One‐shot: compute size & acc for every arch exactly once  \n",
    "one_shot_table = {}  # idx -> (size_norm, one_shot_acc)\n",
    "supernet.eval()\n",
    "with torch.no_grad():\n",
    "    # init counters\n",
    "    correct = {i: 0 for i in range(N_ARCHS)}\n",
    "    total   = len(val_ds)\n",
    "    for x, y in val_loader:\n",
    "        x, y = x.to(device), y.to(device)\n",
    "        # for each idx in one pass\n",
    "        for idx in range(N_ARCHS):\n",
    "            preds = supernet(idx, x)\n",
    "            correct[idx] += (preds.argmax(1)==y).sum().item()\n",
    "    # now fill table\n",
    "    for idx in range(N_ARCHS):\n",
    "        size_norm = (ARCH_SIZES[idx] / MAX_ARCH_SIZE).item()\n",
    "        acc       = correct[idx] / total\n",
    "        one_shot_table[idx] = (size_norm, acc)\n",
    "\n",
    "# 11) Extract the full cloud and each method's picks from that table\n",
    "R_all, Acc_all = zip(*one_shot_table.values())\n",
    "\n",
    "R_rand,   Acc_rand   = zip(*(one_shot_table[i] for i in rand_inds))\n",
    "R_modnas, Acc_modnas = zip(*(one_shot_table[i] for i in mod_inds))\n",
    "R_nsga,   Acc_nsga   = zip(*(one_shot_table[i] for i in nsga_inds))\n",
    "\n",
    "# 12) Plot from that single table\n",
    "plt.figure(figsize=(6,4))\n",
    "plt.scatter(R_all,    Acc_all,    color='lightgray', alpha=0.5, s=10, label='_nolegend_')\n",
    "plt.scatter(R_rand,   Acc_rand,   marker='o', s=80, label='Random')\n",
    "plt.scatter(R_modnas, Acc_modnas, marker='x', s=80, label='ModNAS')\n",
    "plt.scatter(R_nsga,   Acc_nsga,   marker='^', s=80, label='NSGA-II')\n",
    "plt.xlabel('Normalized Size')\n",
    "plt.ylabel('One-Shot Validation Accuracy')\n",
    "plt.title('Search-Phase: Size vs. One-Shot Accuracy (trained proxy)')\n",
    "plt.legend()\n",
    "plt.tight_layout()\n",
    "plt.show()\n"
   ]
  },
  {
   "cell_type": "code",
   "execution_count": null,
   "id": "5abe2c93",
   "metadata": {},
   "outputs": [
    {
     "name": "stdout",
     "output_type": "stream",
     "text": [
      "Random picks:    [1091, 6400, 5034, 2387, 3733]\n",
      "ModNAS picks:    [789, 1865, 2233, 2767, 2927]\n",
      "NSGA-II picks:   [6759, 6760, 1077, 4679, 179]\n",
      "Unique picks:    [179, 789, 1077, 1091, 1865, 2233, 2387, 2767, 2927, 3733, 4679, 5034, 6400, 6759, 6760] → 15\n"
     ]
    }
   ],
   "source": [
    "unique_inds = sorted(set(rand_inds + mod_inds + nsga_inds))\n",
    "print(\"Random picks:   \", rand_inds)\n",
    "print(\"ModNAS picks:   \", mod_inds)\n",
    "print(\"NSGA-II picks:  \", nsga_inds)\n",
    "print(\"Unique picks:   \", unique_inds, \"→\", len(unique_inds))"
   ]
  },
  {
   "cell_type": "code",
   "execution_count": null,
   "id": "74048949",
   "metadata": {},
   "outputs": [
    {
     "name": "stderr",
     "output_type": "stream",
     "text": [
      "Archs:   7%|▋         | 1/15 [00:05<01:12,  5.15s/arch]"
     ]
    },
    {
     "name": "stdout",
     "output_type": "stream",
     "text": [
      "Arch  179 → val_acc = 0.2658\n"
     ]
    },
    {
     "name": "stderr",
     "output_type": "stream",
     "text": [
      "Archs:  13%|█▎        | 2/15 [00:10<01:06,  5.14s/arch]"
     ]
    },
    {
     "name": "stdout",
     "output_type": "stream",
     "text": [
      "Arch  789 → val_acc = 0.2376\n"
     ]
    },
    {
     "name": "stderr",
     "output_type": "stream",
     "text": [
      "Archs:  20%|██        | 3/15 [00:15<01:01,  5.15s/arch]"
     ]
    },
    {
     "name": "stdout",
     "output_type": "stream",
     "text": [
      "Arch 1077 → val_acc = 0.2544\n"
     ]
    },
    {
     "name": "stderr",
     "output_type": "stream",
     "text": [
      "Archs:  27%|██▋       | 4/15 [00:21<00:59,  5.38s/arch]"
     ]
    },
    {
     "name": "stdout",
     "output_type": "stream",
     "text": [
      "Arch 1091 → val_acc = 0.3409\n"
     ]
    },
    {
     "name": "stderr",
     "output_type": "stream",
     "text": [
      "Archs:  33%|███▎      | 5/15 [00:26<00:52,  5.28s/arch]"
     ]
    },
    {
     "name": "stdout",
     "output_type": "stream",
     "text": [
      "Arch 1865 → val_acc = 0.2790\n"
     ]
    },
    {
     "name": "stderr",
     "output_type": "stream",
     "text": [
      "Archs:  40%|████      | 6/15 [00:31<00:47,  5.25s/arch]"
     ]
    },
    {
     "name": "stdout",
     "output_type": "stream",
     "text": [
      "Arch 2233 → val_acc = 0.2700\n"
     ]
    },
    {
     "name": "stderr",
     "output_type": "stream",
     "text": [
      "Archs:  47%|████▋     | 7/15 [00:36<00:41,  5.21s/arch]"
     ]
    },
    {
     "name": "stdout",
     "output_type": "stream",
     "text": [
      "Arch 2387 → val_acc = 0.3047\n"
     ]
    },
    {
     "name": "stderr",
     "output_type": "stream",
     "text": [
      "Archs:  53%|█████▎    | 8/15 [00:41<00:36,  5.18s/arch]"
     ]
    },
    {
     "name": "stdout",
     "output_type": "stream",
     "text": [
      "Arch 2767 → val_acc = 0.3323\n"
     ]
    },
    {
     "name": "stderr",
     "output_type": "stream",
     "text": [
      "Archs:  60%|██████    | 9/15 [00:46<00:31,  5.19s/arch]"
     ]
    },
    {
     "name": "stdout",
     "output_type": "stream",
     "text": [
      "Arch 2927 → val_acc = 0.3323\n"
     ]
    },
    {
     "name": "stderr",
     "output_type": "stream",
     "text": [
      "Archs:  67%|██████▋   | 10/15 [00:52<00:26,  5.24s/arch]"
     ]
    },
    {
     "name": "stdout",
     "output_type": "stream",
     "text": [
      "Arch 3733 → val_acc = 0.4247\n"
     ]
    },
    {
     "name": "stderr",
     "output_type": "stream",
     "text": [
      "Archs:  73%|███████▎  | 11/15 [00:57<00:20,  5.20s/arch]"
     ]
    },
    {
     "name": "stdout",
     "output_type": "stream",
     "text": [
      "Arch 4679 → val_acc = 0.3207\n"
     ]
    },
    {
     "name": "stderr",
     "output_type": "stream",
     "text": [
      "Archs:  80%|████████  | 12/15 [01:03<00:16,  5.44s/arch]"
     ]
    },
    {
     "name": "stdout",
     "output_type": "stream",
     "text": [
      "Arch 5034 → val_acc = 0.5563\n"
     ]
    },
    {
     "name": "stderr",
     "output_type": "stream",
     "text": [
      "Archs:  87%|████████▋ | 13/15 [01:09<00:11,  5.59s/arch]"
     ]
    },
    {
     "name": "stdout",
     "output_type": "stream",
     "text": [
      "Arch 6400 → val_acc = 0.5345\n"
     ]
    },
    {
     "name": "stderr",
     "output_type": "stream",
     "text": [
      "Archs:  93%|█████████▎| 14/15 [01:14<00:05,  5.49s/arch]"
     ]
    },
    {
     "name": "stdout",
     "output_type": "stream",
     "text": [
      "Arch 6759 → val_acc = 0.3770\n"
     ]
    },
    {
     "name": "stderr",
     "output_type": "stream",
     "text": [
      "Archs: 100%|██████████| 15/15 [01:19<00:00,  5.33s/arch]"
     ]
    },
    {
     "name": "stdout",
     "output_type": "stream",
     "text": [
      "Arch 6760 → val_acc = 0.4240\n"
     ]
    },
    {
     "name": "stderr",
     "output_type": "stream",
     "text": [
      "\n"
     ]
    }
   ],
   "source": [
    "# ----------------------------------------\n",
    "# 11) Fixed‐architecture network for from‐scratch training\n",
    "# ----------------------------------------\n",
    "class FixedNet(nn.Module):\n",
    "    def __init__(self, sel):\n",
    "        super().__init__()\n",
    "        self.sel = sel\n",
    "        # same input projection\n",
    "        self.input_proj = nn.Conv2d(3, 16, kernel_size=1, bias=False)\n",
    "        # one op module per edge (None for zeroize)\n",
    "        self.edge_ops = nn.ModuleList([\n",
    "            None if op_idx == 0 else OPS[op_idx]()\n",
    "            for op_idx in sel\n",
    "        ])\n",
    "        # classifier after global avg‐pool\n",
    "        self.classifier = nn.Linear(16 * NUM_NODES, 10, bias=True)\n",
    "\n",
    "    def forward(self, x):\n",
    "        # initialize per-node features\n",
    "        feat = {0: self.input_proj(x)}\n",
    "        for n in range(1, NUM_NODES):\n",
    "            feat[n] = torch.zeros_like(feat[0])\n",
    "        # propagate along edges\n",
    "        for e, (i, j) in enumerate(EDGES):\n",
    "            m = self.edge_ops[e]\n",
    "            if m is None:\n",
    "                continue\n",
    "            out = m(feat[i])\n",
    "            # zero‐pad channels if needed\n",
    "            c = out.shape[1]\n",
    "            if c < 16:\n",
    "                pad = torch.zeros_like(out[:, :16-c, ...])\n",
    "                pad = pad.view(out.size(0), 16-c, out.size(2), out.size(3))\n",
    "                out = torch.cat([out, pad], dim=1)\n",
    "            feat[j] = feat[j] + out\n",
    "        # concat node features, global‐avg‐pool spatial dims\n",
    "        allf = torch.cat([feat[n] for n in range(NUM_NODES)], dim=1)\n",
    "        gap  = allf.mean(dim=[2,3])       # shape (B,16*NUM_NODES)\n",
    "        return self.classifier(gap)\n",
    "\n",
    "# ----------------------------------------\n",
    "# 12) Gather the distinct indices from each method\n",
    "# ----------------------------------------\n",
    "methods = {\n",
    "    'Random': rand_inds,\n",
    "    'ModNAS': mod_inds,\n",
    "    'NSGA-II': nsga_inds\n",
    "}\n",
    "# unique set of architectures to train\n",
    "unique_inds = sorted(set(rand_inds + mod_inds + nsga_inds))\n",
    "\n",
    "# ----------------------------------------\n",
    "# 13) Train each net from scratch, evaluate on validation set\n",
    "# ----------------------------------------\n",
    "TRAIN_EPOCHS = FINAL_TRAIN_EPOCHS\n",
    "results = {}  # idx -> test_acc\n",
    "\n",
    "# outer loop: iterate architectures\n",
    "for idx in tqdm(unique_inds, desc='Archs', unit='arch'):\n",
    "    sel = CANONICAL_ARCHS[idx]\n",
    "    net = FixedNet(sel).to(device)\n",
    "    optimizer = torch.optim.SGD(net.parameters(), lr=0.1, momentum=0.9, weight_decay=5e-4)\n",
    "    scheduler = torch.optim.lr_scheduler.CosineAnnealingLR(optimizer, T_max=TRAIN_EPOCHS)\n",
    "\n",
    "    # inner loop: train epochs with progress bar\n",
    "    net.train()\n",
    "    for ep in tqdm(range(TRAIN_EPOCHS), desc=f'Arch {idx}', leave=False, unit='ep'):\n",
    "        epoch_loss = 0.0\n",
    "        for x, y in train_loader:\n",
    "            x, y = x.to(device), y.to(device)\n",
    "            out = net(x)\n",
    "            loss = F.cross_entropy(out, y)\n",
    "            optimizer.zero_grad()\n",
    "            loss.backward()\n",
    "            optimizer.step()\n",
    "            epoch_loss += loss.item() * y.size(0)\n",
    "        scheduler.step()\n",
    "\n",
    "    # evaluation (you can also add a small progress bar here if desired)\n",
    "    net.eval()\n",
    "    correct = total = 0\n",
    "    with torch.no_grad():\n",
    "        for x, y in val_loader:\n",
    "            x, y = x.to(device), y.to(device)\n",
    "            out = net(x)\n",
    "            correct += (out.argmax(1) == y).sum().item()\n",
    "            total   += y.size(0)\n",
    "\n",
    "    test_acc = correct / total\n",
    "    results[idx] = test_acc\n",
    "    tqdm.write(f\"Arch {idx:4d} → val_acc = {test_acc:.4f}\")\n",
    "\n"
   ]
  },
  {
   "cell_type": "code",
   "execution_count": null,
   "id": "710a2b3e",
   "metadata": {},
   "outputs": [
    {
     "data": {
      "image/png": "[encoded data removed]",
      "text/plain": [
       "<Figure size 600x400 with 1 Axes>"
      ]
     },
     "metadata": {},
     "output_type": "display_data"
    }
   ],
   "source": [
    "# ----------------------------------------\n",
    "# 14) Compare & plot final results\n",
    "# ----------------------------------------\n",
    "plt.figure(figsize=(6,4))\n",
    "for method, inds in methods.items():\n",
    "    # gather points\n",
    "    xs, ys = [], []\n",
    "    for idx in inds:\n",
    "        xs.append((ARCH_SIZES[idx]/MAX_ARCH_SIZE).item())\n",
    "        ys.append(results[idx])\n",
    "    plt.scatter(xs, ys, s=80, label=method, marker={\n",
    "        'Random':'o','ModNAS':'s','NSGA-II':'^'\n",
    "    }[method])\n",
    "plt.xlabel('Normalized Size')\n",
    "plt.ylabel('Validation Accuracy (from‐scratch)')\n",
    "plt.title('Final Comparison: Trained Accuracy vs. Size')\n",
    "plt.legend()\n",
    "plt.tight_layout()\n",
    "plt.show()"
   ]
  },
  {
   "cell_type": "code",
   "execution_count": null,
   "id": "7c33e283",
   "metadata": {},
   "outputs": [],
   "source": []
  }
 ],
 "metadata": {
  "kernelspec": {
   "display_name": "venv",
   "language": "python",
   "name": "python3"
  },
  "language_info": {
   "codemirror_mode": {
    "name": "ipython",
    "version": 3
   },
   "file_extension": ".py",
   "mimetype": "text/x-python",
   "name": "python",
   "nbconvert_exporter": "python",
   "pygments_lexer": "ipython3",
   "version": "3.12.3"
  }
 },
 "nbformat": 4,
 "nbformat_minor": 5
}
